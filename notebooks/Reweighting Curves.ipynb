{
 "cells": [
  {
   "cell_type": "code",
   "execution_count": null,
   "metadata": {},
   "outputs": [],
   "source": [
    "# JBY: Set up env using \"ipython --pylab\" imports\n",
    "%pylab"
   ]
  },
  {
   "cell_type": "code",
   "execution_count": null,
   "metadata": {},
   "outputs": [],
   "source": [
    "%autoreload 2"
   ]
  },
  {
   "cell_type": "code",
   "execution_count": null,
   "metadata": {},
   "outputs": [],
   "source": [
    "%matplotlib inline\n",
    "figsize(17,6)\n",
    "rcParams['font.size'] = 16"
   ]
  },
  {
   "cell_type": "markdown",
   "metadata": {},
   "source": [
    "# SB Figure 4 (normal and rescaled)"
   ]
  },
  {
   "cell_type": "code",
   "execution_count": null,
   "metadata": {},
   "outputs": [],
   "source": [
    "pct = linspace(0, 1, 200)"
   ]
  },
  {
   "cell_type": "code",
   "execution_count": null,
   "metadata": {},
   "outputs": [],
   "source": [
    "plot(pct, 0*pct + 1, 'k')\n",
    "plot(pct, pct, 'r')\n",
    "plot(pct, pct**2, 'b')\n",
    "plot(pct, pct**3, 'g')\n",
    "legend(('SGD', 'SB Beta 1', 'SB Beta 2', 'SB Beta 3'))\n",
    "title('SB Figure 4')\n",
    "xlabel('Percentile'); ylabel('Probability of Selection\\n == Per-example Weight')"
   ]
  },
  {
   "cell_type": "code",
   "execution_count": null,
   "metadata": {},
   "outputs": [],
   "source": [
    "plot(pct, 0*pct + 1, 'k')\n",
    "plot(pct, pct / pct.mean(), 'r')\n",
    "plot(pct, pct**2 / (pct**2).mean(), 'b')\n",
    "plot(pct, pct**3 / (pct**3).mean(), 'g')\n",
    "legend(('SGD', 'SB Beta 1', 'SB Beta 2', 'SB Beta 3'))\n",
    "title('SB Figure 4, with normalization (integral is 1, so average batch weight does not change)')\n",
    "xlabel('Percentile'); ylabel('Per-example weight')"
   ]
  },
  {
   "cell_type": "markdown",
   "metadata": {},
   "source": [
    "# Power parameterization"
   ]
  },
  {
   "cell_type": "code",
   "execution_count": null,
   "metadata": {},
   "outputs": [],
   "source": [
    "def power_reweighting(pct, aa):\n",
    "    '''Reweight the 100th percentile example to have aa times the weight of\n",
    "    the 0th percentile example.\n",
    "    Valid values for aa are 0 < aa < inf.'''\n",
    "    if aa == 1:\n",
    "        # Return equal weights everywhere\n",
    "        return 1.0 + pct * 0\n",
    "    else:\n",
    "        return aa ** pct * log(aa) / (aa - 1)"
   ]
  },
  {
   "cell_type": "code",
   "execution_count": null,
   "metadata": {},
   "outputs": [],
   "source": [
    "aas = [1/100, 1/25, 1/10, 1/4, 1/3, 1/2, 1, 2, 3, 4, 10, 25, 100]\n",
    "\n",
    "N_aas = len(aas)\n",
    "\n",
    "color_highlights = {1: 'k'}\n",
    "base_clr = (.7, .7, .7)\n",
    "#base_clr = 'b'\n",
    "for ii, aa in enumerate(aas):\n",
    "    subplot(1, N_aas, 1 + ii)\n",
    "    yy = power_reweighting(pct, aa)\n",
    "    clr = color_highlights.get(aa, base_clr)\n",
    "    plot(pct, yy, c=clr, lw=2)\n",
    "\n",
    "    gca().axhline(0, ls='-', c=base_clr)\n",
    "    gca().axhline(1, ls=':', c=base_clr)\n",
    "    gca().set_xticks([])\n",
    "    gca().set_yticks([])\n",
    "    xlabel('p=%g' % aa)"
   ]
  },
  {
   "cell_type": "markdown",
   "metadata": {},
   "source": [
    "Approximate (though not equivalent!) power reweightings to SB"
   ]
  },
  {
   "cell_type": "code",
   "execution_count": null,
   "metadata": {},
   "outputs": [],
   "source": [
    "plot(pct, 0*pct + 1, 'k')\n",
    "plot(pct, pct / pct.mean(), 'r')\n",
    "plot(pct, power_reweighting(pct, 5), 'r:')\n",
    "plot(pct, pct**2 / (pct**2).mean(), 'b')\n",
    "plot(pct, power_reweighting(pct, 16), 'b:')\n",
    "plot(pct, pct**3 / (pct**3).mean(), 'g')\n",
    "plot(pct, power_reweighting(pct, 50), 'g:')\n",
    "legend(('SGD', 'SB Beta 1', 'Power: 5', 'SB Beta 2', 'Power: 16', 'SB Beta 3', 'Power: 50'))\n",
    "title('SB vs. Power re-weightings')\n",
    "xlabel('Percentile'); ylabel('Per-example weight')"
   ]
  },
  {
   "cell_type": "code",
   "execution_count": null,
   "metadata": {},
   "outputs": [],
   "source": [
    "\n"
   ]
  },
  {
   "cell_type": "code",
   "execution_count": null,
   "metadata": {},
   "outputs": [],
   "source": []
  },
  {
   "cell_type": "code",
   "execution_count": null,
   "metadata": {},
   "outputs": [],
   "source": []
  },
  {
   "cell_type": "markdown",
   "metadata": {},
   "source": [
    "# SCRATCH: Linear-Quadratic parameterizations (two dimensions instead of one; abandoned)"
   ]
  },
  {
   "cell_type": "code",
   "execution_count": null,
   "metadata": {},
   "outputs": [],
   "source": [
    "# Parameterization v1\n",
    "#def linear_quadratic_reweighting(pct, aa, bb):\n",
    "#    return 1.0 + aa * (pct-.5) + bb * (pct-.5)**2 - bb/12"
   ]
  },
  {
   "cell_type": "code",
   "execution_count": null,
   "metadata": {},
   "outputs": [],
   "source": [
    "# Parameterization v2\n",
    "def linear_quadratic_reweighting(pct, aa, bb):\n",
    "    #return aa * pct**2 + bb * pct\n",
    "    return aa * pct**2 + bb * pct + (1 - aa/3.0 - bb/2.0)\n",
    "    #return aa * pct**2 + bb * pct + (1 - aa/3.0 + bb/2.0)"
   ]
  },
  {
   "cell_type": "code",
   "execution_count": null,
   "metadata": {},
   "outputs": [],
   "source": [
    "plot(pct, linear_quadratic_reweighting(pct, 0, 0), 'k')\n",
    "plot(pct, linear_quadratic_reweighting(pct, 0, 2), 'r')\n",
    "plot(pct, linear_quadratic_reweighting(pct, 3, 0), 'b')\n",
    "#plot(pct, linear_quadratic_reweighting(pct, N/A, N/A), 'g')\n",
    "legend(('LQ(0, 0) == SGD', 'LQ(0, 2) == SB Beta 1', 'LQ(3, 0) == SB Beta 2'))\n",
    "title('SB Figure 4, using LQ reweighting. (Beta = 3 is not possible using LQ)')\n",
    "xlabel('Percentile'); ylabel('Per-example weight')"
   ]
  },
  {
   "cell_type": "code",
   "execution_count": null,
   "metadata": {},
   "outputs": [],
   "source": [
    "curvatures = [-2, -1, 0, 1, 2, 3, 4]\n",
    "slopes = [-.5, 0, .5, 1, 1.5, 2, 3]\n",
    "\n",
    "curvatures.sort()\n",
    "slopes.sort()\n",
    "N_curvatures = len(curvatures)\n",
    "N_slopes = len(slopes)\n",
    "\n",
    "# Reverse curvatures so subplots are in order -_-\n",
    "curvatures.reverse()\n",
    "\n",
    "color_highlights = {(0, 0): 'k', (0, 2): 'r', (3, 0): 'b'}\n",
    "\n",
    "for cc, curvature in enumerate(curvatures):\n",
    "    for ss, slope in enumerate(slopes):\n",
    "        #print(N_curvatures, N_slopes, 1 + cc * N_slopes + ss)\n",
    "        subplot(N_curvatures, N_slopes, 1 + cc * N_slopes + ss)\n",
    "        #plot(rand(10))\n",
    "        yy = linear_quadratic_reweighting(pct, curvature, slope)\n",
    "        is_valid = yy.min() >= 0\n",
    "        base_clr = (.6, .6, .6) if is_valid else (.9, .9, .9)\n",
    "        clr = color_highlights.get((curvature, slope), base_clr)\n",
    "        plot(pct, yy, c=clr, lw=2)\n",
    "        \n",
    "        gca().axhline(0, ls=':', c=base_clr)\n",
    "        gca().set_xticks([])\n",
    "        gca().set_yticks([])\n",
    "        plt.setp(gca().spines.values(), color=base_clr)\n",
    "        if cc == 0:\n",
    "            title('s=%g' % slope)\n",
    "        if ss == 0:\n",
    "            ylabel('c=%g' % curvature)"
   ]
  },
  {
   "cell_type": "code",
   "execution_count": null,
   "metadata": {},
   "outputs": [],
   "source": [
    "# Parameterization v3\n",
    "def linear_quadratic_reweighting(pct, uu, vv):\n",
    "    '''uu = weight of 0th perctile point\n",
    "    vv = weight of 100th percentile point\n",
    "    Curvature is solved for to force average weight to be 1.'''\n",
    "    \n",
    "    # a, b, and c are the components of the polynomial\n",
    "    # y = a x^2 + b x + c\n",
    "    c = uu\n",
    "    a = -6 + 3 * uu + 3 * vv\n",
    "    b = vv - uu - a\n",
    "    vals = a * pct**2 + b * pct + c\n",
    "    return vals\n"
   ]
  },
  {
   "cell_type": "code",
   "execution_count": null,
   "metadata": {},
   "outputs": [],
   "source": [
    "plot(pct, linear_quadratic_reweighting(pct, 1, 1), 'k')\n",
    "plot(pct, linear_quadratic_reweighting(pct, 0, 2), 'r')\n",
    "plot(pct, linear_quadratic_reweighting(pct, 0, 3), 'b')\n",
    "#plot(pct, linear_quadratic_reweighting(pct, N/A, N/A), 'g')\n",
    "legend(('LQ(1, 1) == SGD', 'LQ(0, 2) == SB Beta 1', 'LQ(0, 3) == SB Beta 2'))\n",
    "title('SB Figure 4, using LQ reweighting. (Beta = 3 is not possible using LQ)')\n",
    "xlabel('Percentile'); ylabel('Per-example weight')"
   ]
  },
  {
   "cell_type": "code",
   "execution_count": null,
   "metadata": {},
   "outputs": [],
   "source": [
    "uus = [0, 1, 2, 3]\n",
    "vvs = [0, 1, 2, 3]\n",
    "\n",
    "uus.sort()\n",
    "vvs.sort()\n",
    "N_uus = len(uus)\n",
    "N_vvs = len(vvs)\n",
    "\n",
    "# Reverse aas so subplots are in order -_-\n",
    "uus.reverse()\n",
    "\n",
    "color_highlights = {(1, 1): 'k', (0, 2): 'r', (0, 3): 'b'}\n",
    "\n",
    "for ii, uu in enumerate(uus):\n",
    "    for jj, vv in enumerate(vvs):\n",
    "        subplot(N_uus, N_vvs, 1 + ii * N_vvs + jj)\n",
    "        yy = linear_quadratic_reweighting(pct, uu, vv)\n",
    "        is_valid = yy.min() >= 0\n",
    "        base_clr = (.6, .6, .6) if is_valid else (.9, .9, .9)\n",
    "        clr = color_highlights.get((uu, vv), base_clr)\n",
    "        plot(pct, yy, c=clr, lw=2)\n",
    "        \n",
    "        gca().axhline(0, ls='-', c=base_clr)\n",
    "        gca().axhline(1, ls=':', c=base_clr)\n",
    "        gca().set_xticks([])\n",
    "        gca().set_yticks([])\n",
    "        plt.setp(gca().spines.values(), color=base_clr)\n",
    "        if ii == len(uus)-1:\n",
    "            xlabel('v=%g' % vv)\n",
    "        if jj == 0:\n",
    "            ylabel('u=%g' % uu)"
   ]
  },
  {
   "cell_type": "code",
   "execution_count": null,
   "metadata": {},
   "outputs": [],
   "source": []
  }
 ],
 "metadata": {
  "kernelspec": {
   "display_name": "Python 3",
   "language": "python",
   "name": "python3"
  },
  "language_info": {
   "codemirror_mode": {
    "name": "ipython",
    "version": 3
   },
   "file_extension": ".py",
   "mimetype": "text/x-python",
   "name": "python",
   "nbconvert_exporter": "python",
   "pygments_lexer": "ipython3",
   "version": "3.7.5"
  },
  "toc": {
   "base_numbering": 1,
   "nav_menu": {},
   "number_sections": true,
   "sideBar": true,
   "skip_h1_title": false,
   "title_cell": "Table of Contents",
   "title_sidebar": "Contents",
   "toc_cell": false,
   "toc_position": {},
   "toc_section_display": true,
   "toc_window_display": false
  }
 },
 "nbformat": 4,
 "nbformat_minor": 2
}
