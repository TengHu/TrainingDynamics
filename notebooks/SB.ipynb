{
 "cells": [
  {
   "cell_type": "code",
   "execution_count": 116,
   "metadata": {},
   "outputs": [
    {
     "name": "stdout",
     "output_type": "stream",
     "text": [
      "The autoreload extension is already loaded. To reload it, use:\n",
      "  %reload_ext autoreload\n",
      "/Users/niel.hu/research/env/bin/python3.7\n"
     ]
    }
   ],
   "source": [
    "%load_ext autoreload\n",
    "%autoreload 2\n",
    "\n",
    "\n",
    "import os\n",
    "import sys \n",
    "print(sys.executable)\n",
    "\n",
    "os.chdir(\"/Users/niel.hu/research/TrainingDynamics\")"
   ]
  },
  {
   "cell_type": "code",
   "execution_count": 117,
   "metadata": {},
   "outputs": [
    {
     "data": {
      "text/plain": [
       "'f57559d1ea4b46ce9855c532fd3e2494'"
      ]
     },
     "execution_count": 117,
     "metadata": {},
     "output_type": "execute_result"
    }
   ],
   "source": [
    "import uuid \n",
    "id = uuid.uuid4().hex\n",
    "id"
   ]
  },
  {
   "cell_type": "code",
   "execution_count": 118,
   "metadata": {},
   "outputs": [],
   "source": [
    "'''try:\n",
    "    import cPickle as pickle\n",
    "except ModuleNotFoundError:\n",
    "    import pickle'''\n",
    "    \n",
    "    \n",
    "import pickle as pickle\n",
    "\n",
    "    \n",
    "import torchvision.transforms as transforms\n",
    "from utils.mnist import IndexedMNIST as mnist\n",
    "from utils.cifar import IndexedCifar10 as cifar10\n",
    "\n",
    "import matplotlib.pyplot as plt\n",
    "import numpy as np\n",
    "import pdb\n",
    "import torch\n",
    "\n",
    "import seaborn as sns\n",
    "import time\n",
    "import pandas as pd\n",
    "\n",
    "\n",
    "from IPython.display import clear_output"
   ]
  },
  {
   "cell_type": "code",
   "execution_count": null,
   "metadata": {},
   "outputs": [],
   "source": []
  },
  {
   "cell_type": "code",
   "execution_count": null,
   "metadata": {},
   "outputs": [],
   "source": []
  },
  {
   "cell_type": "code",
   "execution_count": 157,
   "metadata": {},
   "outputs": [
    {
     "name": "stdout",
     "output_type": "stream",
     "text": [
      "Progress: 100.00 %, 7.152557373046875e-06 Seconds \n"
     ]
    }
   ],
   "source": [
    "\n",
    "import pickle5 as pickle\n",
    "\n",
    "directories = [\n",
    "    \"result-standard\",\n",
    "    \"result-beta1-loss\",\n",
    "    \"result-beta1-loss-upweight\"\n",
    "    #\"result-beta1-loss-upweight\"\n",
    "    ]\n",
    "\n",
    "\n",
    "directories = [\n",
    "    \"result-deleteme\"\n",
    "    ]\n",
    "\n",
    "\n",
    "def load_blobs(files, blob_type=\"train\"):\n",
    "    start = time.time()\n",
    "    blob_runs = []\n",
    "    for count, file in enumerate(files):\n",
    "\n",
    "        print (\"Progress: {:0.2f} %, {} Seconds \".format((count + 1)/len(files) * 100, time.time() - start))\n",
    "        clear_output(wait=True)\n",
    "        with open(file + \"/{}-log.txt.logger.blob.pickle\".format(blob_type), 'rb') as handle:\n",
    "            run = pickle.load(handle)\n",
    "        blob_runs.append(run)\n",
    "    return blob_runs\n",
    "\n",
    "\n",
    "results = {}\n",
    "\n",
    "for dname in directories:\n",
    "    d =   \"cifar10/noisy_cifar10/\" + dname\n",
    "    d = dname\n",
    "    #dir_name = d + \"_stats\"\n",
    "    #files = [os.path.join(d, file)  for file in os.listdir(d) if \"result\" in file] #startswith(\"result-\")][:5]\n",
    "    results[dname] = {\"train\": load_blobs([d]), \"test\":load_blobs([d], \"test\")}\n"
   ]
  },
  {
   "cell_type": "code",
   "execution_count": 108,
   "metadata": {},
   "outputs": [],
   "source": [
    "pct0 = np.load(\"dataset_overrides/cifar10/0pct_random_label.npy\")\n",
    "pct25 = np.load(\"dataset_overrides/cifar10/25pct_random_label.npy\")\n",
    "noise = set(np.array(range(len(pct0)))[pct0 != pct25])"
   ]
  },
  {
   "cell_type": "code",
   "execution_count": 168,
   "metadata": {},
   "outputs": [
    {
     "data": {
      "text/plain": [
       "[(7446, 2.3101106),\n",
       " (11237, 2.3022416),\n",
       " (22497, 2.314508),\n",
       " (46647, 2.3078773),\n",
       " (412, 2.3424716),\n",
       " (37730, 2.2698681),\n",
       " (17757, 2.3635464),\n",
       " (46252, 2.3420918),\n",
       " (52497, 2.193827),\n",
       " (58278, 2.3263404),\n",
       " (53276, 2.3481557),\n",
       " (31854, 2.3504262),\n",
       " (15109, 2.3486187),\n",
       " (19098, 2.3497965),\n",
       " (51986, 2.3700278),\n",
       " (17398, 2.3395278),\n",
       " (52984, 2.2547524),\n",
       " (5349, 2.1813877),\n",
       " (46135, 2.3299937),\n",
       " (58663, 2.2642338),\n",
       " (38732, 2.3320177),\n",
       " (27751, 2.2529435),\n",
       " (34653, 2.166832),\n",
       " (15176, 2.3217974),\n",
       " (25076, 2.345914),\n",
       " (53104, 2.364741),\n",
       " (43718, 2.3293283),\n",
       " (45601, 2.3260255),\n",
       " (18820, 2.361112),\n",
       " (18604, 2.2785692),\n",
       " (37656, 2.3080702),\n",
       " (44696, 2.256892),\n",
       " (28310, 2.2533607),\n",
       " (20439, 2.3306544),\n",
       " (47794, 2.3421798),\n",
       " (41888, 2.2469559),\n",
       " (38266, 2.3400562),\n",
       " (36120, 2.349325),\n",
       " (50197, 2.3465638),\n",
       " (11623, 2.180794),\n",
       " (40445, 2.3390048),\n",
       " (18608, 2.3157086),\n",
       " (26535, 2.312689),\n",
       " (27340, 2.3048177),\n",
       " (9676, 2.1809096),\n",
       " (47438, 2.3087363),\n",
       " (5403, 2.3173687),\n",
       " (42475, 2.3332088),\n",
       " (36245, 2.311467),\n",
       " (27881, 2.3677464),\n",
       " (43047, 2.2640443),\n",
       " (49331, 2.2555587),\n",
       " (28238, 2.3059583),\n",
       " (35758, 2.3777804),\n",
       " (18413, 2.3213668),\n",
       " (45938, 2.3201835),\n",
       " (51671, 2.2740664),\n",
       " (50505, 2.2764604),\n",
       " (28438, 2.3241537),\n",
       " (46021, 2.2578773),\n",
       " (189, 2.3542345),\n",
       " (23316, 2.3305497),\n",
       " (33586, 2.316201),\n",
       " (7165, 2.3084712),\n",
       " (19991, 2.342656),\n",
       " (10921, 2.2529485),\n",
       " (15246, 2.3342159),\n",
       " (10458, 2.3139153),\n",
       " (30062, 2.2681925),\n",
       " (2208, 2.2715487),\n",
       " (6073, 2.3416057),\n",
       " (22695, 2.3285263),\n",
       " (11843, 2.3518808),\n",
       " (49046, 2.1708848),\n",
       " (58944, 2.336513),\n",
       " (48139, 2.329801),\n",
       " (7732, 2.372356),\n",
       " (55249, 2.3434296),\n",
       " (5807, 2.3050861),\n",
       " (4256, 2.267645),\n",
       " (57890, 2.3203502),\n",
       " (33923, 2.3091178),\n",
       " (18482, 2.3228014),\n",
       " (58220, 2.303549),\n",
       " (20513, 2.3460374),\n",
       " (27663, 2.3226633),\n",
       " (31451, 2.1733706),\n",
       " (26713, 2.304067),\n",
       " (49632, 2.3231745),\n",
       " (7409, 2.3148482),\n",
       " (55589, 2.3347394),\n",
       " (53525, 2.1838331),\n",
       " (50466, 2.175691),\n",
       " (3293, 2.3208678),\n",
       " (32120, 2.180089),\n",
       " (45852, 2.3452055),\n",
       " (17633, 2.2914033),\n",
       " (32606, 2.3689747),\n",
       " (39797, 2.3529656),\n",
       " (35115, 2.310265),\n",
       " (21168, 2.3535466),\n",
       " (39112, 2.3623402),\n",
       " (15671, 2.3176663),\n",
       " (44813, 2.2995718),\n",
       " (57497, 2.2860396),\n",
       " (32048, 2.3346705),\n",
       " (51985, 2.2721796),\n",
       " (7039, 2.263051),\n",
       " (15992, 2.3326278),\n",
       " (54067, 2.3470612),\n",
       " (19771, 2.3170607),\n",
       " (48701, 2.2703974),\n",
       " (52569, 2.2496974),\n",
       " (6048, 2.271271),\n",
       " (12301, 2.3482506),\n",
       " (22068, 2.3532705),\n",
       " (13867, 2.3571775),\n",
       " (1033, 2.3539999),\n",
       " (2947, 2.3046846),\n",
       " (25284, 2.3505197),\n",
       " (57923, 2.2754247),\n",
       " (45962, 2.2440994),\n",
       " (33789, 2.350927),\n",
       " (48173, 2.3250618),\n",
       " (16397, 2.3222299),\n",
       " (59203, 2.303112),\n",
       " (29455, 2.193854),\n",
       " (4906, 2.2954137),\n",
       " (9499, 2.364267),\n",
       " (32563, 2.3412118),\n",
       " (39296, 2.3586009),\n",
       " (21898, 2.2789524),\n",
       " (16430, 2.352892),\n",
       " (43501, 2.2922091),\n",
       " (27922, 2.3368964),\n",
       " (38864, 2.3263485),\n",
       " (43792, 2.346828),\n",
       " (31506, 2.351157),\n",
       " (6266, 2.3571846),\n",
       " (5230, 2.344229),\n",
       " (54654, 2.330101),\n",
       " (33785, 2.3509789),\n",
       " (4212, 2.3460326),\n",
       " (48628, 2.353716),\n",
       " (37171, 2.2821968),\n",
       " (55901, 2.2587967),\n",
       " (31944, 2.3317993),\n",
       " (36105, 2.316775),\n",
       " (13130, 2.348946),\n",
       " (47326, 2.2716424),\n",
       " (31497, 2.370047),\n",
       " (14002, 2.2517571),\n",
       " (58559, 2.1813183),\n",
       " (35555, 2.1799223),\n",
       " (59059, 2.308111),\n",
       " (35168, 2.300038),\n",
       " (49528, 2.3015633),\n",
       " (3425, 2.3527422),\n",
       " (56832, 2.2005737),\n",
       " (37715, 2.357369),\n",
       " (27936, 2.3361142),\n",
       " (44580, 2.305896),\n",
       " (48616, 2.3518527),\n",
       " (47323, 2.31367),\n",
       " (19665, 2.3119678),\n",
       " (59777, 2.355721),\n",
       " (36930, 2.3404222),\n",
       " (20016, 2.3126068),\n",
       " (30413, 2.3159025),\n",
       " (55534, 2.3230348),\n",
       " (45101, 2.3600483),\n",
       " (44220, 2.2594016),\n",
       " (36429, 2.3504438),\n",
       " (7517, 2.3353379),\n",
       " (27004, 2.3448668),\n",
       " (48967, 2.269464),\n",
       " (37593, 2.3291793),\n",
       " (41028, 2.3588278),\n",
       " (42316, 2.25875),\n",
       " (15505, 2.2536259),\n",
       " (22428, 2.3226647),\n",
       " (24459, 2.3309689),\n",
       " (54496, 2.3675592),\n",
       " (27451, 2.362577),\n",
       " (47993, 2.3157978),\n",
       " (14943, 2.2723157),\n",
       " (11051, 2.2450035),\n",
       " (35577, 2.3299985),\n",
       " (37150, 2.2592678),\n",
       " (38188, 2.3100138),\n",
       " (36589, 2.2565272),\n",
       " (10071, 2.3426068),\n",
       " (35514, 2.2376928),\n",
       " (4171, 2.3526788),\n",
       " (24622, 2.3335009),\n",
       " (43388, 2.270164),\n",
       " (4042, 2.3160832),\n",
       " (39359, 2.3256633),\n",
       " (46306, 2.1795251),\n",
       " (10307, 2.249914),\n",
       " (8631, 2.3436656),\n",
       " (32525, 2.329395),\n",
       " (13032, 2.3341734),\n",
       " (46673, 2.18819),\n",
       " (26352, 2.1932776),\n",
       " (21762, 2.1774437),\n",
       " (10731, 2.3200126),\n",
       " (5175, 2.358274),\n",
       " (43493, 2.1862645),\n",
       " (25089, 2.3555129),\n",
       " (27166, 2.3398914),\n",
       " (46619, 2.303673),\n",
       " (46759, 2.182686),\n",
       " (38338, 2.330372),\n",
       " (14153, 2.2751346),\n",
       " (27745, 2.3429723),\n",
       " (43752, 2.3463778),\n",
       " (52758, 2.2401485),\n",
       " (22064, 2.3206275),\n",
       " (12528, 2.2726638),\n",
       " (40860, 2.370352),\n",
       " (28527, 2.2616463),\n",
       " (25513, 2.331931),\n",
       " (1052, 2.1994135),\n",
       " (38656, 2.3086097),\n",
       " (41081, 2.298928),\n",
       " (23655, 2.2651298),\n",
       " (10833, 2.3151605),\n",
       " (34066, 2.3439264),\n",
       " (30493, 2.251672),\n",
       " (15367, 2.349109),\n",
       " (57538, 2.3170824),\n",
       " (12918, 2.3415458),\n",
       " (46500, 2.238197),\n",
       " (38808, 2.1789305),\n",
       " (47070, 2.2552888),\n",
       " (59141, 2.3281288),\n",
       " (22423, 2.2568586),\n",
       " (22835, 2.2533026),\n",
       " (39865, 2.260696),\n",
       " (9894, 2.2642708),\n",
       " (14789, 2.252968),\n",
       " (41313, 2.191257),\n",
       " (55552, 2.310659),\n",
       " (38342, 2.1802957),\n",
       " (1006, 2.3326406),\n",
       " (29546, 2.3491),\n",
       " (40972, 2.2712154),\n",
       " (4981, 2.3262146),\n",
       " (2133, 2.314866),\n",
       " (25476, 2.325634),\n",
       " (36557, 2.3050475),\n",
       " (58222, 2.3417912),\n",
       " (17989, 2.335326),\n",
       " (25447, 2.1900296),\n",
       " (39788, 2.3052485),\n",
       " (44279, 2.1717436),\n",
       " (39668, 2.347445),\n",
       " (18208, 2.2811282),\n",
       " (54082, 2.29741),\n",
       " (40925, 2.248312),\n",
       " (47581, 2.2690547),\n",
       " (44714, 2.3200197),\n",
       " (56380, 2.3116958),\n",
       " (40178, 2.250779),\n",
       " (23569, 2.3054295),\n",
       " (34171, 2.1777337),\n",
       " (32451, 2.332718),\n",
       " (34036, 2.3745456),\n",
       " (8909, 2.3199732),\n",
       " (31599, 2.2950323),\n",
       " (6008, 2.351472),\n",
       " (22810, 2.3194196),\n",
       " (23202, 2.3423505),\n",
       " (57661, 2.3538873),\n",
       " (35353, 2.3089302),\n",
       " (35100, 2.2977293),\n",
       " (53140, 2.331027),\n",
       " (34055, 2.356318),\n",
       " (20835, 2.3228216),\n",
       " (12299, 2.3664994),\n",
       " (37375, 2.312099),\n",
       " (53763, 2.3435552),\n",
       " (7654, 2.3290894),\n",
       " (28300, 2.2474334),\n",
       " (32202, 2.1949093),\n",
       " (49660, 2.3236415),\n",
       " (37780, 2.3461409),\n",
       " (23176, 2.3094509),\n",
       " (58261, 2.330152),\n",
       " (24980, 2.3421607),\n",
       " (46287, 2.1895936),\n",
       " (30874, 2.2992406),\n",
       " (50686, 2.3106987),\n",
       " (35061, 2.330816),\n",
       " (19181, 2.3251297),\n",
       " (29936, 2.3112762),\n",
       " (30863, 2.3194911),\n",
       " (27301, 2.2546372),\n",
       " (6296, 2.3089724),\n",
       " (14183, 2.3150754),\n",
       " (59426, 2.3103523),\n",
       " (41525, 2.2609725),\n",
       " (1756, 2.3387582),\n",
       " (11482, 2.3244276),\n",
       " (13879, 2.3486073),\n",
       " (40879, 2.3167326),\n",
       " (1060, 2.3398328),\n",
       " (33372, 2.3296466),\n",
       " (16286, 2.3324337),\n",
       " (11, 2.2825606),\n",
       " (22286, 2.2782748),\n",
       " (17238, 2.341743),\n",
       " (22006, 2.360278),\n",
       " (28229, 2.318098),\n",
       " (39727, 2.3293648),\n",
       " (59370, 2.3344471),\n",
       " (20655, 2.3276322),\n",
       " (35749, 2.381017),\n",
       " (23469, 2.2632759),\n",
       " (18976, 2.3040705),\n",
       " (55542, 2.1555223),\n",
       " (154, 2.3533697),\n",
       " (50838, 2.2516284),\n",
       " (59661, 2.319574),\n",
       " (59895, 2.3432846),\n",
       " (24861, 2.3416212),\n",
       " (21009, 2.269251),\n",
       " (22391, 2.3460433),\n",
       " (3687, 2.3479624),\n",
       " (42703, 2.3063319),\n",
       " (21984, 2.3520706),\n",
       " (13842, 2.3326652),\n",
       " (24474, 2.3374941),\n",
       " (21235, 2.3260713),\n",
       " (14278, 2.348457),\n",
       " (42990, 2.3540764),\n",
       " (28646, 2.191674),\n",
       " (28958, 2.33314),\n",
       " (59159, 2.274021),\n",
       " (21763, 2.3267555),\n",
       " (57829, 2.2568574),\n",
       " (17828, 2.16906),\n",
       " (32425, 2.1676033),\n",
       " (9422, 2.3079398),\n",
       " (46117, 2.2731037),\n",
       " (42301, 2.2547734),\n",
       " (32815, 2.342982),\n",
       " (35752, 2.3023531),\n",
       " (46058, 2.267546),\n",
       " (310, 2.2389784),\n",
       " (17988, 2.3533583),\n",
       " (39488, 2.3463893),\n",
       " (24883, 2.1765215),\n",
       " (31819, 2.326931),\n",
       " (25866, 2.2561238),\n",
       " (2100, 2.3465753),\n",
       " (50276, 2.3334644),\n",
       " (206, 2.3283596),\n",
       " (44392, 2.2538717),\n",
       " (50653, 2.2637053),\n",
       " (24332, 2.272017),\n",
       " (20582, 2.3294501),\n",
       " (37851, 2.162823),\n",
       " (36705, 2.3071015),\n",
       " (56083, 2.3662274),\n",
       " (27283, 2.3365622),\n",
       " (46602, 2.33881),\n",
       " (30735, 2.2677474),\n",
       " (38992, 2.3339913),\n",
       " (41353, 2.2990289),\n",
       " (35563, 2.3478303),\n",
       " (3313, 2.3522384),\n",
       " (52775, 2.3370075),\n",
       " (57668, 2.3275218),\n",
       " (25437, 2.3836443),\n",
       " (13685, 2.317389),\n",
       " (19602, 2.3669212),\n",
       " (54915, 2.3530974),\n",
       " (28522, 2.2463536),\n",
       " (28857, 2.3521717),\n",
       " (15174, 2.3415127),\n",
       " (54937, 2.188446),\n",
       " (20588, 2.3431728),\n",
       " (57467, 2.262058),\n",
       " (18079, 2.2792041),\n",
       " (10738, 2.2765784),\n",
       " (45295, 2.32095),\n",
       " (39149, 2.249251),\n",
       " (19820, 2.278406),\n",
       " (59334, 2.323086),\n",
       " (33453, 2.3552089),\n",
       " (31109, 2.3087494),\n",
       " (40835, 2.3401542),\n",
       " (31530, 2.3464377),\n",
       " (47123, 2.2467868),\n",
       " (46118, 2.1888542),\n",
       " (32428, 2.3158045),\n",
       " (19913, 2.3243234),\n",
       " (56234, 2.1864736),\n",
       " (32665, 2.2631912),\n",
       " (14449, 2.3196325),\n",
       " (25816, 2.1789324),\n",
       " (12634, 2.3072615),\n",
       " (17444, 2.3101263),\n",
       " (41064, 2.3249593),\n",
       " (3861, 2.3395672),\n",
       " (54402, 2.2637439),\n",
       " (41328, 2.1832066),\n",
       " (32929, 2.341281),\n",
       " (45881, 2.2937958),\n",
       " (34235, 2.317978),\n",
       " (32357, 2.3359373),\n",
       " (44641, 2.3335958),\n",
       " (43893, 2.3380852),\n",
       " (49192, 2.301848),\n",
       " (40826, 2.2543879),\n",
       " (19919, 2.2535038),\n",
       " (2954, 2.318418),\n",
       " (20528, 2.316559),\n",
       " (20103, 2.3471591),\n",
       " (58242, 2.3487976),\n",
       " (22854, 2.3522148),\n",
       " (37239, 2.3190022),\n",
       " (53989, 2.1979086),\n",
       " (21765, 2.2644882),\n",
       " (22938, 2.3028505),\n",
       " (36990, 2.1711812),\n",
       " (14016, 2.2522383),\n",
       " (2510, 2.351457),\n",
       " (36519, 2.2771108),\n",
       " (4802, 2.332358),\n",
       " (45761, 2.3223097),\n",
       " (22112, 2.1594672),\n",
       " (38845, 2.3721457),\n",
       " (33336, 2.3170455),\n",
       " (10561, 2.327336),\n",
       " (38714, 2.2845483),\n",
       " (44888, 2.2646482),\n",
       " (10169, 2.2556133),\n",
       " (87, 2.3096974),\n",
       " (49551, 2.334512),\n",
       " (15579, 2.3110197),\n",
       " (44002, 2.2377949),\n",
       " (49108, 2.3581035),\n",
       " (51523, 2.1895752),\n",
       " (40451, 2.3079612),\n",
       " (47452, 2.3318546),\n",
       " (20827, 2.3405538),\n",
       " (25790, 2.317806),\n",
       " (6672, 2.2912486),\n",
       " (48553, 2.3181295),\n",
       " (29220, 2.289508),\n",
       " (31056, 2.257149),\n",
       " (30033, 2.275175),\n",
       " (31396, 2.3139005),\n",
       " (34737, 2.301298),\n",
       " (18892, 2.3322232),\n",
       " (28273, 2.3517392),\n",
       " (20189, 2.1787348),\n",
       " (53639, 2.3490763),\n",
       " (2775, 2.3579953),\n",
       " (31437, 2.2622736),\n",
       " (26824, 2.3742533),\n",
       " (8991, 2.3096557),\n",
       " (32756, 2.3565369),\n",
       " (31223, 2.2640078),\n",
       " (12519, 2.1603258),\n",
       " (24764, 2.3469179),\n",
       " (52643, 2.3285406),\n",
       " (34169, 2.392694),\n",
       " (16416, 2.3066385),\n",
       " (10160, 2.3560147),\n",
       " (21732, 2.183514),\n",
       " (944, 2.34644),\n",
       " (55337, 2.3290205),\n",
       " (38562, 2.2566366),\n",
       " (34708, 2.3101323),\n",
       " (769, 2.329881),\n",
       " (38528, 2.239209),\n",
       " (28902, 2.2493112),\n",
       " (10501, 2.1766243),\n",
       " (10511, 2.3186507),\n",
       " (28859, 2.350061),\n",
       " (46920, 2.2713823),\n",
       " (53831, 2.3065886),\n",
       " (12105, 2.3547437),\n",
       " (7406, 2.317442),\n",
       " (53057, 2.2646158),\n",
       " (21656, 2.3007543),\n",
       " (20331, 2.2882369),\n",
       " (46891, 2.328888),\n",
       " (38403, 2.3610091),\n",
       " (1636, 2.3459642),\n",
       " (16473, 2.2830224),\n",
       " (15431, 2.2694037),\n",
       " (27607, 2.3064826),\n",
       " (10620, 2.370074),\n",
       " (6628, 2.3118563),\n",
       " (2878, 2.243454),\n",
       " (31087, 2.3239932),\n",
       " (9798, 2.3615494),\n",
       " (9670, 2.296814),\n",
       " (31202, 2.311866),\n",
       " (39874, 2.324),\n",
       " (47903, 2.2746587),\n",
       " (21136, 2.1942723),\n",
       " (12481, 2.3640513),\n",
       " (25966, 2.2410173),\n",
       " (41320, 2.3679943),\n",
       " (53357, 2.267956),\n",
       " (2854, 2.3484375)]"
      ]
     },
     "execution_count": 168,
     "metadata": {},
     "output_type": "execute_result"
    }
   ],
   "source": [
    "results[dname]['train'][0]['examples'][0][1]\n",
    "#results[\"result-beta1-loss\"]['train'][0]['correct_pred']\n",
    "\n"
   ]
  },
  {
   "cell_type": "code",
   "execution_count": 158,
   "metadata": {},
   "outputs": [
    {
     "data": {
      "text/plain": [
       "<matplotlib.legend.Legend at 0x146058e10>"
      ]
     },
     "execution_count": 158,
     "metadata": {},
     "output_type": "execute_result"
    },
    {
     "data": {
      "image/png": "[encoded data removed]",
      "text/plain": [
       "<Figure size 1080x576 with 1 Axes>"
      ]
     },
     "metadata": {
      "needs_background": "light"
     },
     "output_type": "display_data"
    }
   ],
   "source": [
    "def count_noisy_examples(name):\n",
    "    return [np.mean([len(noise.intersection(j)) for j in i]) / 128 for i in results[name]['train'][0]['examples']]\n",
    "\n",
    "def train_loss(name):\n",
    "    return [np.mean(i) for i in results[name]['train'][0]['train_loss']]\n",
    "\n",
    "def count_noise_in_correct(name):\n",
    "    return [np.mean([len(noise.intersection(j)) for j in i ]) for i in results[dname]['train'][0]['correct_pred']]\n",
    "\n",
    "def train_pred1(name):\n",
    "    return [np.mean(i) for i in results[name]['train'][0]['train_pred1']]\n",
    "\n",
    "fig, ax = plt.subplots(figsize=(15, 8))\n",
    "for dname in directories:\n",
    "    plt.plot(count_noisy_examples(dname))\n",
    "    \n",
    "plt.legend(directories,  fontsize=20)"
   ]
  },
  {
   "cell_type": "code",
   "execution_count": 159,
   "metadata": {},
   "outputs": [
    {
     "data": {
      "text/plain": [
       "<matplotlib.legend.Legend at 0x147318e50>"
      ]
     },
     "execution_count": 159,
     "metadata": {},
     "output_type": "execute_result"
    },
    {
     "data": {
      "image/png": "[encoded data removed]",
      "text/plain": [
       "<Figure size 1080x576 with 1 Axes>"
      ]
     },
     "metadata": {
      "needs_background": "light"
     },
     "output_type": "display_data"
    }
   ],
   "source": [
    "fig, ax = plt.subplots(figsize=(15, 8))\n",
    "\n",
    "for dname in directories:\n",
    "    num_backprops = np.cumsum([0] + results[dname]['train'][0]['epoch_backprops'])\n",
    "    test_error = 1 - np.array(results[dname]['test'][0]['epoch_pred1'])\n",
    "    plt.plot(num_backprops / 1e+6, test_error)\n",
    "\n",
    "ax.set_xlabel(\"#Backprops (millions)\", size=20)\n",
    "ax.set_ylabel(\"Test Error\", size=20)\n",
    "plt.legend(directories,  fontsize=20)\n",
    "\n",
    "#plt.legend([\"Standard\", \"SB (beta=1)\", \"SB (beta=3)\", \"compaction, sample prob 0.1, confidence 0.8\"],  fontsize=20)"
   ]
  },
  {
   "cell_type": "code",
   "execution_count": 15,
   "metadata": {},
   "outputs": [
    {
     "data": {
      "text/plain": [
       "<matplotlib.legend.Legend at 0x138ebc590>"
      ]
     },
     "execution_count": 15,
     "metadata": {},
     "output_type": "execute_result"
    },
    {
     "data": {
      "image/png": "[encoded data removed]",
      "text/plain": [
       "<Figure size 1080x576 with 1 Axes>"
      ]
     },
     "metadata": {
      "needs_background": "light"
     },
     "output_type": "display_data"
    }
   ],
   "source": [
    "fig, ax = plt.subplots(figsize=(15, 8))\n",
    "\n",
    "for dname in directories:\n",
    "    plt.plot(np.cumsum(results[dname]['train'][0]['backprops']) / 1e+6)\n",
    "\n",
    "ax.set_xlabel(\"#Iterations \", size=20)\n",
    "ax.set_ylabel(\"#Backprops (millions)\", size=20)\n",
    "plt.legend(directories,  fontsize=20)\n",
    "#plt.legend([\"Standard\", \"SB (beta=1)\", \"SB (beta=3)\", \"compaction, sample prob 0.1, confidence 0.8\"],  fontsize=20)"
   ]
  },
  {
   "cell_type": "code",
   "execution_count": 201,
   "metadata": {},
   "outputs": [
    {
     "data": {
      "text/plain": [
       "[<matplotlib.lines.Line2D at 0x1757e7750>]"
      ]
     },
     "execution_count": 201,
     "metadata": {},
     "output_type": "execute_result"
    },
    {
     "data": {
      "image/png": "[encoded data removed]",
      "text/plain": [
       "<Figure size 432x288 with 1 Axes>"
      ]
     },
     "metadata": {
      "needs_background": "light"
     },
     "output_type": "display_data"
    }
   ],
   "source": [
    "plt.plot(results['compaction70']['train'][0]['backprops'])"
   ]
  },
  {
   "cell_type": "code",
   "execution_count": 202,
   "metadata": {},
   "outputs": [
    {
     "name": "stdout",
     "output_type": "stream",
     "text": [
      "compaction 0.9812999998779297\n",
      "compaction70 0.9816999998779297\n"
     ]
    }
   ],
   "source": [
    "for dname in directories:\n",
    "    num_backprops = np.cumsum(results[dname]['train'][0]['epoch_backprops'])\n",
    "    test_acc = np.array(results[dname]['test'][0]['epoch_pred1'])\n",
    "    print (dname, test_acc.max())"
   ]
  },
  {
   "cell_type": "code",
   "execution_count": null,
   "metadata": {},
   "outputs": [],
   "source": []
  },
  {
   "cell_type": "code",
   "execution_count": 131,
   "metadata": {},
   "outputs": [
    {
     "ename": "ValueError",
     "evalue": "x and y must have same first dimension, but have shapes (7800,) and (20, 390)",
     "output_type": "error",
     "traceback": [
      "\u001b[0;31m---------------------------------------------------------------------------\u001b[0m",
      "\u001b[0;31mValueError\u001b[0m                                Traceback (most recent call last)",
      "\u001b[0;32m<ipython-input-131-0422e8ed8e63>\u001b[0m in \u001b[0;36m<module>\u001b[0;34m\u001b[0m\n\u001b[1;32m      3\u001b[0m \u001b[0;32mfor\u001b[0m \u001b[0mdname\u001b[0m \u001b[0;32min\u001b[0m \u001b[0mdirectories\u001b[0m\u001b[0;34m:\u001b[0m\u001b[0;34m\u001b[0m\u001b[0;34m\u001b[0m\u001b[0m\n\u001b[1;32m      4\u001b[0m     \u001b[0mnum_backprops\u001b[0m \u001b[0;34m=\u001b[0m \u001b[0mnp\u001b[0m\u001b[0;34m.\u001b[0m\u001b[0mcumsum\u001b[0m\u001b[0;34m(\u001b[0m\u001b[0mresults\u001b[0m\u001b[0;34m[\u001b[0m\u001b[0mdname\u001b[0m\u001b[0;34m]\u001b[0m\u001b[0;34m[\u001b[0m\u001b[0;34m'train'\u001b[0m\u001b[0;34m]\u001b[0m\u001b[0;34m[\u001b[0m\u001b[0;36m0\u001b[0m\u001b[0;34m]\u001b[0m\u001b[0;34m[\u001b[0m\u001b[0;34m'backprops'\u001b[0m\u001b[0;34m]\u001b[0m\u001b[0;34m)\u001b[0m\u001b[0;34m\u001b[0m\u001b[0;34m\u001b[0m\u001b[0m\n\u001b[0;32m----> 5\u001b[0;31m     \u001b[0mplt\u001b[0m\u001b[0;34m.\u001b[0m\u001b[0mplot\u001b[0m\u001b[0;34m(\u001b[0m\u001b[0mnum_backprops\u001b[0m \u001b[0;34m/\u001b[0m \u001b[0;36m1e+6\u001b[0m\u001b[0;34m,\u001b[0m \u001b[0mresults\u001b[0m\u001b[0;34m[\u001b[0m\u001b[0mdname\u001b[0m\u001b[0;34m]\u001b[0m\u001b[0;34m[\u001b[0m\u001b[0;34m'train'\u001b[0m\u001b[0;34m]\u001b[0m\u001b[0;34m[\u001b[0m\u001b[0;36m0\u001b[0m\u001b[0;34m]\u001b[0m\u001b[0;34m[\u001b[0m\u001b[0;34m'train_loss'\u001b[0m\u001b[0;34m]\u001b[0m\u001b[0;34m)\u001b[0m\u001b[0;34m\u001b[0m\u001b[0;34m\u001b[0m\u001b[0m\n\u001b[0m\u001b[1;32m      6\u001b[0m \u001b[0;34m\u001b[0m\u001b[0m\n\u001b[1;32m      7\u001b[0m \u001b[0;34m\u001b[0m\u001b[0m\n",
      "\u001b[0;32m~/research/env/lib/python3.7/site-packages/matplotlib/pyplot.py\u001b[0m in \u001b[0;36mplot\u001b[0;34m(scalex, scaley, data, *args, **kwargs)\u001b[0m\n\u001b[1;32m   2794\u001b[0m     return gca().plot(\n\u001b[1;32m   2795\u001b[0m         *args, scalex=scalex, scaley=scaley, **({\"data\": data} if data\n\u001b[0;32m-> 2796\u001b[0;31m         is not None else {}), **kwargs)\n\u001b[0m\u001b[1;32m   2797\u001b[0m \u001b[0;34m\u001b[0m\u001b[0m\n\u001b[1;32m   2798\u001b[0m \u001b[0;34m\u001b[0m\u001b[0m\n",
      "\u001b[0;32m~/research/env/lib/python3.7/site-packages/matplotlib/axes/_axes.py\u001b[0m in \u001b[0;36mplot\u001b[0;34m(self, scalex, scaley, data, *args, **kwargs)\u001b[0m\n\u001b[1;32m   1663\u001b[0m         \"\"\"\n\u001b[1;32m   1664\u001b[0m         \u001b[0mkwargs\u001b[0m \u001b[0;34m=\u001b[0m \u001b[0mcbook\u001b[0m\u001b[0;34m.\u001b[0m\u001b[0mnormalize_kwargs\u001b[0m\u001b[0;34m(\u001b[0m\u001b[0mkwargs\u001b[0m\u001b[0;34m,\u001b[0m \u001b[0mmlines\u001b[0m\u001b[0;34m.\u001b[0m\u001b[0mLine2D\u001b[0m\u001b[0;34m.\u001b[0m\u001b[0m_alias_map\u001b[0m\u001b[0;34m)\u001b[0m\u001b[0;34m\u001b[0m\u001b[0;34m\u001b[0m\u001b[0m\n\u001b[0;32m-> 1665\u001b[0;31m         \u001b[0mlines\u001b[0m \u001b[0;34m=\u001b[0m \u001b[0;34m[\u001b[0m\u001b[0;34m*\u001b[0m\u001b[0mself\u001b[0m\u001b[0;34m.\u001b[0m\u001b[0m_get_lines\u001b[0m\u001b[0;34m(\u001b[0m\u001b[0;34m*\u001b[0m\u001b[0margs\u001b[0m\u001b[0;34m,\u001b[0m \u001b[0mdata\u001b[0m\u001b[0;34m=\u001b[0m\u001b[0mdata\u001b[0m\u001b[0;34m,\u001b[0m \u001b[0;34m**\u001b[0m\u001b[0mkwargs\u001b[0m\u001b[0;34m)\u001b[0m\u001b[0;34m]\u001b[0m\u001b[0;34m\u001b[0m\u001b[0;34m\u001b[0m\u001b[0m\n\u001b[0m\u001b[1;32m   1666\u001b[0m         \u001b[0;32mfor\u001b[0m \u001b[0mline\u001b[0m \u001b[0;32min\u001b[0m \u001b[0mlines\u001b[0m\u001b[0;34m:\u001b[0m\u001b[0;34m\u001b[0m\u001b[0;34m\u001b[0m\u001b[0m\n\u001b[1;32m   1667\u001b[0m             \u001b[0mself\u001b[0m\u001b[0;34m.\u001b[0m\u001b[0madd_line\u001b[0m\u001b[0;34m(\u001b[0m\u001b[0mline\u001b[0m\u001b[0;34m)\u001b[0m\u001b[0;34m\u001b[0m\u001b[0;34m\u001b[0m\u001b[0m\n",
      "\u001b[0;32m~/research/env/lib/python3.7/site-packages/matplotlib/axes/_base.py\u001b[0m in \u001b[0;36m__call__\u001b[0;34m(self, *args, **kwargs)\u001b[0m\n\u001b[1;32m    223\u001b[0m                 \u001b[0mthis\u001b[0m \u001b[0;34m+=\u001b[0m \u001b[0margs\u001b[0m\u001b[0;34m[\u001b[0m\u001b[0;36m0\u001b[0m\u001b[0;34m]\u001b[0m\u001b[0;34m,\u001b[0m\u001b[0;34m\u001b[0m\u001b[0;34m\u001b[0m\u001b[0m\n\u001b[1;32m    224\u001b[0m                 \u001b[0margs\u001b[0m \u001b[0;34m=\u001b[0m \u001b[0margs\u001b[0m\u001b[0;34m[\u001b[0m\u001b[0;36m1\u001b[0m\u001b[0;34m:\u001b[0m\u001b[0;34m]\u001b[0m\u001b[0;34m\u001b[0m\u001b[0;34m\u001b[0m\u001b[0m\n\u001b[0;32m--> 225\u001b[0;31m             \u001b[0;32myield\u001b[0m \u001b[0;32mfrom\u001b[0m \u001b[0mself\u001b[0m\u001b[0;34m.\u001b[0m\u001b[0m_plot_args\u001b[0m\u001b[0;34m(\u001b[0m\u001b[0mthis\u001b[0m\u001b[0;34m,\u001b[0m \u001b[0mkwargs\u001b[0m\u001b[0;34m)\u001b[0m\u001b[0;34m\u001b[0m\u001b[0;34m\u001b[0m\u001b[0m\n\u001b[0m\u001b[1;32m    226\u001b[0m \u001b[0;34m\u001b[0m\u001b[0m\n\u001b[1;32m    227\u001b[0m     \u001b[0;32mdef\u001b[0m \u001b[0mget_next_color\u001b[0m\u001b[0;34m(\u001b[0m\u001b[0mself\u001b[0m\u001b[0;34m)\u001b[0m\u001b[0;34m:\u001b[0m\u001b[0;34m\u001b[0m\u001b[0;34m\u001b[0m\u001b[0m\n",
      "\u001b[0;32m~/research/env/lib/python3.7/site-packages/matplotlib/axes/_base.py\u001b[0m in \u001b[0;36m_plot_args\u001b[0;34m(self, tup, kwargs)\u001b[0m\n\u001b[1;32m    389\u001b[0m             \u001b[0mx\u001b[0m\u001b[0;34m,\u001b[0m \u001b[0my\u001b[0m \u001b[0;34m=\u001b[0m \u001b[0mindex_of\u001b[0m\u001b[0;34m(\u001b[0m\u001b[0mtup\u001b[0m\u001b[0;34m[\u001b[0m\u001b[0;34m-\u001b[0m\u001b[0;36m1\u001b[0m\u001b[0;34m]\u001b[0m\u001b[0;34m)\u001b[0m\u001b[0;34m\u001b[0m\u001b[0;34m\u001b[0m\u001b[0m\n\u001b[1;32m    390\u001b[0m \u001b[0;34m\u001b[0m\u001b[0m\n\u001b[0;32m--> 391\u001b[0;31m         \u001b[0mx\u001b[0m\u001b[0;34m,\u001b[0m \u001b[0my\u001b[0m \u001b[0;34m=\u001b[0m \u001b[0mself\u001b[0m\u001b[0;34m.\u001b[0m\u001b[0m_xy_from_xy\u001b[0m\u001b[0;34m(\u001b[0m\u001b[0mx\u001b[0m\u001b[0;34m,\u001b[0m \u001b[0my\u001b[0m\u001b[0;34m)\u001b[0m\u001b[0;34m\u001b[0m\u001b[0;34m\u001b[0m\u001b[0m\n\u001b[0m\u001b[1;32m    392\u001b[0m \u001b[0;34m\u001b[0m\u001b[0m\n\u001b[1;32m    393\u001b[0m         \u001b[0;32mif\u001b[0m \u001b[0mself\u001b[0m\u001b[0;34m.\u001b[0m\u001b[0mcommand\u001b[0m \u001b[0;34m==\u001b[0m \u001b[0;34m'plot'\u001b[0m\u001b[0;34m:\u001b[0m\u001b[0;34m\u001b[0m\u001b[0;34m\u001b[0m\u001b[0m\n",
      "\u001b[0;32m~/research/env/lib/python3.7/site-packages/matplotlib/axes/_base.py\u001b[0m in \u001b[0;36m_xy_from_xy\u001b[0;34m(self, x, y)\u001b[0m\n\u001b[1;32m    268\u001b[0m         \u001b[0;32mif\u001b[0m \u001b[0mx\u001b[0m\u001b[0;34m.\u001b[0m\u001b[0mshape\u001b[0m\u001b[0;34m[\u001b[0m\u001b[0;36m0\u001b[0m\u001b[0;34m]\u001b[0m \u001b[0;34m!=\u001b[0m \u001b[0my\u001b[0m\u001b[0;34m.\u001b[0m\u001b[0mshape\u001b[0m\u001b[0;34m[\u001b[0m\u001b[0;36m0\u001b[0m\u001b[0;34m]\u001b[0m\u001b[0;34m:\u001b[0m\u001b[0;34m\u001b[0m\u001b[0;34m\u001b[0m\u001b[0m\n\u001b[1;32m    269\u001b[0m             raise ValueError(\"x and y must have same first dimension, but \"\n\u001b[0;32m--> 270\u001b[0;31m                              \"have shapes {} and {}\".format(x.shape, y.shape))\n\u001b[0m\u001b[1;32m    271\u001b[0m         \u001b[0;32mif\u001b[0m \u001b[0mx\u001b[0m\u001b[0;34m.\u001b[0m\u001b[0mndim\u001b[0m \u001b[0;34m>\u001b[0m \u001b[0;36m2\u001b[0m \u001b[0;32mor\u001b[0m \u001b[0my\u001b[0m\u001b[0;34m.\u001b[0m\u001b[0mndim\u001b[0m \u001b[0;34m>\u001b[0m \u001b[0;36m2\u001b[0m\u001b[0;34m:\u001b[0m\u001b[0;34m\u001b[0m\u001b[0;34m\u001b[0m\u001b[0m\n\u001b[1;32m    272\u001b[0m             raise ValueError(\"x and y can be no greater than 2-D, but have \"\n",
      "\u001b[0;31mValueError\u001b[0m: x and y must have same first dimension, but have shapes (7800,) and (20, 390)"
     ]
    },
    {
     "data": {
      "image/png": "[encoded data removed]",
      "text/plain": [
       "<Figure size 1440x576 with 1 Axes>"
      ]
     },
     "metadata": {
      "needs_background": "light"
     },
     "output_type": "display_data"
    }
   ],
   "source": [
    "fig, ax = plt.subplots(figsize=(20, 8))\n",
    "\n",
    "for dname in directories:\n",
    "    num_backprops = np.cumsum(results[dname]['train'][0]['backprops'])\n",
    "    plt.plot(num_backprops / 1e+6, results[dname]['train'][0]['train_loss'])\n",
    "\n",
    "\n",
    "plt.legend(directories,  fontsize=20)"
   ]
  },
  {
   "cell_type": "code",
   "execution_count": null,
   "metadata": {},
   "outputs": [],
   "source": []
  },
  {
   "cell_type": "code",
   "execution_count": null,
   "metadata": {},
   "outputs": [],
   "source": []
  },
  {
   "cell_type": "code",
   "execution_count": null,
   "metadata": {},
   "outputs": [],
   "source": []
  },
  {
   "cell_type": "code",
   "execution_count": 132,
   "metadata": {},
   "outputs": [
    {
     "data": {
      "text/plain": [
       "<matplotlib.legend.Legend at 0x1482cd710>"
      ]
     },
     "execution_count": 132,
     "metadata": {},
     "output_type": "execute_result"
    },
    {
     "data": {
      "image/png": "[encoded data removed]",
      "text/plain": [
       "<Figure size 1080x576 with 1 Axes>"
      ]
     },
     "metadata": {
      "needs_background": "light"
     },
     "output_type": "display_data"
    }
   ],
   "source": [
    "fig, ax = plt.subplots(figsize=(15, 8))\n",
    "\n",
    "for dname in directories:\n",
    "    plt.plot(np.cumsum(results[dname]['train'][0]['backprops']) / 1e+6, results[dname]['train'][0]['lr'])\n",
    "\n",
    "ax.set_xlabel(\"#Backprops (million) \", size=20)\n",
    "ax.set_ylabel(\"#LR\", size=20)\n",
    "plt.legend(directories,  fontsize=20)\n",
    "#plt.legend([\"Standard\", \"SB (beta=1)\", \"SB (beta=3)\", \"compaction, sample prob 0.1, confidence 0.8\"],  fontsize=20)"
   ]
  },
  {
   "cell_type": "markdown",
   "metadata": {},
   "source": [
    "# Generate Random Labels"
   ]
  },
  {
   "cell_type": "code",
   "execution_count": 8,
   "metadata": {},
   "outputs": [],
   "source": [
    "def generate_random_labels(dataset, prob=0.5):\n",
    "    ans = []\n",
    "    classes = range(len(dataset.classes()))\n",
    "    \n",
    "    for j in dataset:\n",
    "        if (np.random.random() < prob):\n",
    "            ans += [np.random.choice(classes)]\n",
    "        else:\n",
    "            ans += [j[1]]\n",
    "    return ans"
   ]
  },
  {
   "cell_type": "code",
   "execution_count": 6,
   "metadata": {},
   "outputs": [
    {
     "name": "stdout",
     "output_type": "stream",
     "text": [
      "Downloading https://www.cs.toronto.edu/~kriz/cifar-10-python.tar.gz to ./data/cifar-10-python.tar.gz\n"
     ]
    },
    {
     "data": {
      "application/vnd.jupyter.widget-view+json": {
       "model_id": "7f08c08502464fe5a95cec08ec10c015",
       "version_major": 2,
       "version_minor": 0
      },
      "text/plain": [
       "HBox(children=(FloatProgress(value=1.0, bar_style='info', max=1.0), HTML(value='')))"
      ]
     },
     "metadata": {},
     "output_type": "display_data"
    },
    {
     "name": "stdout",
     "output_type": "stream",
     "text": [
      "Extracting ./data/cifar-10-python.tar.gz to ./data\n"
     ]
    }
   ],
   "source": [
    "from utils.cifar import IndexedCifar10\n",
    "from utils.mnist import IndexedMNIST\n",
    "\n",
    "\n",
    "trainset = IndexedCifar10(root='./data', train=True, download=True,transform=IndexedCifar10.transform_train)"
   ]
  },
  {
   "cell_type": "code",
   "execution_count": 9,
   "metadata": {},
   "outputs": [],
   "source": [
    "ans = generate_random_labels(trainset, 0.25)"
   ]
  },
  {
   "cell_type": "code",
   "execution_count": 10,
   "metadata": {},
   "outputs": [
    {
     "data": {
      "text/plain": [
       "0.77676"
      ]
     },
     "execution_count": 10,
     "metadata": {},
     "output_type": "execute_result"
    }
   ],
   "source": [
    "np.mean([j[1] == ans[j[2]] for j in trainset])"
   ]
  },
  {
   "cell_type": "code",
   "execution_count": 11,
   "metadata": {},
   "outputs": [],
   "source": [
    "np.save(\"dataset_overrides/cifar10/25pct_random_label\", ans)"
   ]
  },
  {
   "cell_type": "code",
   "execution_count": 17,
   "metadata": {},
   "outputs": [
    {
     "data": {
      "text/plain": [
       "8000000"
      ]
     },
     "execution_count": 17,
     "metadata": {},
     "output_type": "execute_result"
    }
   ],
   "source": [
    "160 * len(trainset)"
   ]
  },
  {
   "cell_type": "code",
   "execution_count": null,
   "metadata": {},
   "outputs": [],
   "source": []
  }
 ],
 "metadata": {
  "kernelspec": {
   "display_name": "Python 3",
   "language": "python",
   "name": "python3"
  },
  "language_info": {
   "codemirror_mode": {
    "name": "ipython",
    "version": 3
   },
   "file_extension": ".py",
   "mimetype": "text/x-python",
   "name": "python",
   "nbconvert_exporter": "python",
   "pygments_lexer": "ipython3",
   "version": "3.7.6"
  }
 },
 "nbformat": 4,
 "nbformat_minor": 4
}
