{
 "cells": [
  {
   "cell_type": "code",
   "execution_count": 182,
   "metadata": {},
   "outputs": [
    {
     "name": "stdout",
     "output_type": "stream",
     "text": [
      "The autoreload extension is already loaded. To reload it, use:\n",
      "  %reload_ext autoreload\n",
      "/Users/niel.hu/research/env/bin/python3.7\n"
     ]
    }
   ],
   "source": [
    "%load_ext autoreload\n",
    "%autoreload 2\n",
    "\n",
    "\n",
    "import os\n",
    "import sys \n",
    "print(sys.executable)\n",
    "\n",
    "os.chdir(\"/Users/niel.hu/research/TrainingDynamics\")"
   ]
  },
  {
   "cell_type": "code",
   "execution_count": 183,
   "metadata": {},
   "outputs": [],
   "source": [
    "'''try:\n",
    "    import cPickle as pickle\n",
    "except ModuleNotFoundError:\n",
    "    import pickle'''\n",
    "    \n",
    "    \n",
    "import pickle as pickle\n",
    "\n",
    "    \n",
    "import torchvision.transforms as transforms\n",
    "from utils.mnist import IndexedMNIST as mnist\n",
    "from utils.cifar import IndexedCifar10 as cifar10\n",
    "\n",
    "import matplotlib.pyplot as plt\n",
    "import numpy as np\n",
    "import pdb\n",
    "import torch\n",
    "\n",
    "import seaborn as sns\n",
    "import time\n",
    "import pandas as pd\n",
    "\n",
    "\n",
    "from IPython.display import clear_output"
   ]
  },
  {
   "cell_type": "code",
   "execution_count": 338,
   "metadata": {},
   "outputs": [
    {
     "name": "stdout",
     "output_type": "stream",
     "text": [
      "Progress: 100.00 %, 8.821487426757812e-06 Seconds \n"
     ]
    }
   ],
   "source": [
    "\n",
    "import pickle5 as pickle\n",
    "\n",
    "\n",
    "\n",
    "\n",
    "\n",
    "\n",
    "\n",
    "\n",
    "\n",
    "\n",
    "\n",
    "\n",
    "directories = [\n",
    "    \"results\",\n",
    "    \"results_SB3\",\n",
    "    \"results_SB3_new_target\",\n",
    "    ]\n",
    "\n",
    "\n",
    "\n",
    "\n",
    "\n",
    "\n",
    "\n",
    "\n",
    "\n",
    "\n",
    "\n",
    "\n",
    "\n",
    "\n",
    "\n",
    "\n",
    "directories = [\n",
    "    \"results_noise\",\n",
    "    \"results_noise_SB3\",\n",
    "    #\"results_SB1_new_target\",\n",
    "    \"results_noise_SB3_new_target\",\n",
    "    #\"results_SB3\",\n",
    "    #\"results_SB3_new_target\",\n",
    "    ]\n",
    "\n",
    "directories = [\n",
    "    \"results_75noise\",\n",
    "    \"results_75noise_SB1\",\n",
    "    \"results_75noise_SB1_new_target\",\n",
    "    ]\n",
    "\n",
    "directories = [\n",
    "    \"cifar-10-standard/result-535876\",\n",
    "    \"cifar-10-SB1/result-535876\",\n",
    "    \"result-new_targets_200\"\n",
    "    ]\n",
    "\n",
    "directories = [\n",
    "    \"result-noisymnist-standard\",\n",
    "    \"result-noisymnist-beta1\",\n",
    "    \"result-noisymnist-beta1-upweight\"\n",
    "    ]\n",
    "\n",
    "\n",
    "directories = [\n",
    "    #\"results_standard\",\n",
    "    #\"results_SB1\",\n",
    "    \"results_USB1\",\n",
    "    \"results_USB1_0.1\",\n",
    "    ]\n",
    "\n",
    "def load_blobs(files, blob_type=\"train\"):\n",
    "    start = time.time()\n",
    "    blob_runs = []\n",
    "    for count, file in enumerate(files):\n",
    "\n",
    "        print (\"Progress: {:0.2f} %, {} Seconds \".format((count + 1)/len(files) * 100, time.time() - start))\n",
    "        clear_output(wait=True)\n",
    "        with open(file + \"/{}-log.txt.logger.blob.pickle\".format(blob_type), 'rb') as handle:\n",
    "            run = pickle.load(handle)\n",
    "        blob_runs.append(run)\n",
    "    return blob_runs\n",
    "\n",
    "\n",
    "results = {}\n",
    "\n",
    "for dname in directories:\n",
    "    #d = dname\n",
    "    d = \"mnist/standard/\" + dname\n",
    "    results[dname] = {\"train\": load_blobs([d]), \"test\":load_blobs([d], \"test\")}\n"
   ]
  },
  {
   "cell_type": "code",
   "execution_count": 247,
   "metadata": {},
   "outputs": [],
   "source": [
    "#results['results_test_nofloor']['train'][0]['multipliers']"
   ]
  },
  {
   "cell_type": "code",
   "execution_count": 292,
   "metadata": {},
   "outputs": [],
   "source": [
    "def merge(data):\n",
    "    ret = []\n",
    "    for epoch_idx, epoch in enumerate(data['examples']):\n",
    "        epoch_buf = []\n",
    "        \n",
    "        for iteration_idx, iteration in enumerate(epoch):\n",
    "            \n",
    "            buf = data['multipliers'][epoch_idx][iteration_idx]\n",
    "            \n",
    "            epoch_buf += [list(zip([i[0] for i in iteration], [i[1] for i in iteration],  buf))]\n",
    "        \n",
    "        ret += [epoch_buf]\n",
    "    return ret\n",
    "\n",
    "\n",
    "def effective_noisy(d, noise):\n",
    "    total = list(merge(d['train'][0]))\n",
    "    \n",
    "    \n",
    "    \n",
    "    to_plot = [[np.sum([example[2] for example in iteration if example[0] in noise]) \n",
    "                / np.sum([example[2] for example in iteration]) for iteration in epoch\n",
    "               ] for epoch in total]\n",
    "    return to_plot\n",
    "    #return [np.mean(s) for s in to_plot]\n",
    "\n",
    "\n",
    "#buf = effective_noisy(results['results_test_nofloor'], noise)"
   ]
  },
  {
   "cell_type": "code",
   "execution_count": 295,
   "metadata": {},
   "outputs": [],
   "source": [
    "#results['results_test_SB1']['train'][0]['multipliers'][0]"
   ]
  },
  {
   "cell_type": "code",
   "execution_count": 299,
   "metadata": {},
   "outputs": [
    {
     "data": {
      "text/plain": [
       "4.820771131403434e-05"
      ]
     },
     "execution_count": 299,
     "metadata": {},
     "output_type": "execute_result"
    }
   ],
   "source": [
    "10 ** np.random.uniform(-6, 0)"
   ]
  },
  {
   "cell_type": "code",
   "execution_count": 192,
   "metadata": {},
   "outputs": [],
   "source": [
    "\n",
    "pct0 = np.load(\"dataset_overrides/mnist/0pct_random_label.npy\")\n",
    "pct50 = np.load(\"dataset_overrides/mnist/50pct_random_label.npy\")\n",
    "pct75 = np.load(\"dataset_overrides/mnist/75pct_random_label.npy\")\n",
    "noise = set(np.array(range(len(pct0)))[pct0 != pct75])\n"
   ]
  },
  {
   "cell_type": "code",
   "execution_count": 249,
   "metadata": {},
   "outputs": [],
   "source": [
    "#_ = plt.hist([k[1] for k in buf[7][51] if k[0] not in noise], bins=100)"
   ]
  },
  {
   "cell_type": "code",
   "execution_count": 325,
   "metadata": {},
   "outputs": [
    {
     "name": "stdout",
     "output_type": "stream",
     "text": [
      "results_standard\n"
     ]
    },
    {
     "data": {
      "text/plain": [
       "<matplotlib.legend.Legend at 0x20db09d10>"
      ]
     },
     "execution_count": 325,
     "metadata": {},
     "output_type": "execute_result"
    },
    {
     "data": {
      "image/png": "[encoded data removed]",
      "text/plain": [
       "<Figure size 1080x576 with 1 Axes>"
      ]
     },
     "metadata": {
      "needs_background": "light"
     },
     "output_type": "display_data"
    }
   ],
   "source": [
    "fig, ax = plt.subplots(figsize=(15, 8))\n",
    "\n",
    "def count_noise(d, noise):\n",
    "    return [[len([example[0] for example in iteration if example[0] in noise]) \n",
    "             / len(iteration) for iteration in epoch] for epoch in d['train'][0]['examples']]\n",
    "\n",
    "\n",
    "for dname in directories:\n",
    "    print (dname)\n",
    "    \n",
    "    num_backprops = np.cumsum(results[dname]['train'][0]['epoch_backprops'])\n",
    "    \n",
    "    buf = effective_noisy(results[dname], noise)\n",
    "   \n",
    "    plt.plot(num_backprops, [np.mean(a) for a in buf])\n",
    "    \n",
    "plt.legend([1,2,3])"
   ]
  },
  {
   "cell_type": "code",
   "execution_count": null,
   "metadata": {},
   "outputs": [],
   "source": []
  },
  {
   "cell_type": "code",
   "execution_count": 99,
   "metadata": {
    "collapsed": true,
    "jupyter": {
     "outputs_hidden": true
    }
   },
   "outputs": [
    {
     "ename": "NameError",
     "evalue": "name 'buf' is not defined",
     "output_type": "error",
     "traceback": [
      "\u001b[0;31m---------------------------------------------------------------------------\u001b[0m",
      "\u001b[0;31mNameError\u001b[0m                                 Traceback (most recent call last)",
      "\u001b[0;32m<ipython-input-99-301bc593f4a0>\u001b[0m in \u001b[0;36m<module>\u001b[0;34m\u001b[0m\n\u001b[1;32m      1\u001b[0m \u001b[0;32mfrom\u001b[0m \u001b[0mIPython\u001b[0m\u001b[0;34m.\u001b[0m\u001b[0mdisplay\u001b[0m \u001b[0;32mimport\u001b[0m \u001b[0mclear_output\u001b[0m\u001b[0;34m\u001b[0m\u001b[0;34m\u001b[0m\u001b[0m\n\u001b[0;32m----> 2\u001b[0;31m \u001b[0;32mfor\u001b[0m \u001b[0mi\u001b[0m \u001b[0;32min\u001b[0m \u001b[0mbuf\u001b[0m\u001b[0;34m:\u001b[0m\u001b[0;34m\u001b[0m\u001b[0;34m\u001b[0m\u001b[0m\n\u001b[0m\u001b[1;32m      3\u001b[0m     \u001b[0;32mfor\u001b[0m \u001b[0mj\u001b[0m \u001b[0;32min\u001b[0m \u001b[0mi\u001b[0m\u001b[0;34m:\u001b[0m\u001b[0;34m\u001b[0m\u001b[0;34m\u001b[0m\u001b[0m\n\u001b[1;32m      4\u001b[0m         \u001b[0mclear_output\u001b[0m\u001b[0;34m(\u001b[0m\u001b[0mwait\u001b[0m\u001b[0;34m=\u001b[0m\u001b[0;32mTrue\u001b[0m\u001b[0;34m)\u001b[0m\u001b[0;34m\u001b[0m\u001b[0;34m\u001b[0m\u001b[0m\n\u001b[1;32m      5\u001b[0m \u001b[0;34m\u001b[0m\u001b[0m\n",
      "\u001b[0;31mNameError\u001b[0m: name 'buf' is not defined"
     ]
    }
   ],
   "source": [
    "from IPython.display import clear_output\n",
    "for i in buf:\n",
    "    for j in i:\n",
    "        clear_output(wait=True)\n",
    "        \n",
    "        _ = plt.hist([k[1] for k in j if k[0] not in noise], bins=100)\n",
    "        _ = plt.hist([k[1] for k in j if k[0] in noise], bins=100)\n",
    "        \n",
    "        plt.legend([1,2])\n",
    "        \n",
    "        plt.show()"
   ]
  },
  {
   "cell_type": "code",
   "execution_count": 339,
   "metadata": {},
   "outputs": [
    {
     "data": {
      "text/plain": [
       "<matplotlib.legend.Legend at 0x1897a1590>"
      ]
     },
     "execution_count": 339,
     "metadata": {},
     "output_type": "execute_result"
    },
    {
     "data": {
      "image/png": "[encoded data removed]",
      "text/plain": [
       "<Figure size 1080x576 with 1 Axes>"
      ]
     },
     "metadata": {
      "needs_background": "light"
     },
     "output_type": "display_data"
    }
   ],
   "source": [
    "fig, ax = plt.subplots(figsize=(15, 8))\n",
    "\n",
    "for dname in directories:\n",
    "    num_backprops = np.cumsum([0] + results[dname]['train'][0]['epoch_backprops'])\n",
    "    \n",
    "    train_error = 1 - np.array(results[dname]['train'][0]['epoch_pred1'])\n",
    "    loss = np.array([np.mean(a) for a in results[dname]['train'][0]['train_loss']])\n",
    "                                                                   \n",
    "    test_error = 1 - np.array(results[dname]['test'][0]['epoch_pred1'])\n",
    "    \n",
    "    plt.plot(num_backprops, test_error)\n",
    "    \n",
    "plt.legend(directories)"
   ]
  },
  {
   "cell_type": "code",
   "execution_count": 315,
   "metadata": {},
   "outputs": [],
   "source": [
    "#results[dname]['train'][0]['train_loss'][0]"
   ]
  },
  {
   "cell_type": "code",
   "execution_count": null,
   "metadata": {},
   "outputs": [],
   "source": []
  },
  {
   "cell_type": "code",
   "execution_count": null,
   "metadata": {},
   "outputs": [],
   "source": []
  },
  {
   "cell_type": "code",
   "execution_count": null,
   "metadata": {},
   "outputs": [],
   "source": []
  },
  {
   "cell_type": "code",
   "execution_count": null,
   "metadata": {},
   "outputs": [],
   "source": []
  },
  {
   "cell_type": "code",
   "execution_count": null,
   "metadata": {},
   "outputs": [],
   "source": []
  }
 ],
 "metadata": {
  "kernelspec": {
   "display_name": "Python 3",
   "language": "python",
   "name": "python3"
  },
  "language_info": {
   "codemirror_mode": {
    "name": "ipython",
    "version": 3
   },
   "file_extension": ".py",
   "mimetype": "text/x-python",
   "name": "python",
   "nbconvert_exporter": "python",
   "pygments_lexer": "ipython3",
   "version": "3.7.6"
  }
 },
 "nbformat": 4,
 "nbformat_minor": 4
}
